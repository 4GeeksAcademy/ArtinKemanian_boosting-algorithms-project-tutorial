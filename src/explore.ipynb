{
    "cells": [
        {
            "cell_type": "markdown",
            "metadata": {},
            "source": [
                "# Explore here"
            ]
        },
        {
            "cell_type": "code",
            "execution_count": 2,
            "metadata": {},
            "outputs": [],
            "source": [
                "import numpy as np\n",
                "import pandas as pd\n",
                "from sklearn.datasets import load_breast_cancer\n",
                "from sklearn.model_selection import train_test_split\n",
                "from sklearn.tree import DecisionTreeClassifier\n",
                "from sklearn.metrics import *\n",
                "from imblearn.metrics import specificity_score\n",
                "from sklearn.metrics import confusion_matrix\n",
                "from xgboost import XGBClassifier\n",
                "from sklearn import metrics\n",
                "from sklearn.model_selection import RandomizedSearchCV"
            ]
        },
        {
            "cell_type": "code",
            "execution_count": 3,
            "metadata": {},
            "outputs": [
                {
                    "data": {
                        "text/html": [
                            "<div>\n",
                            "<style scoped>\n",
                            "    .dataframe tbody tr th:only-of-type {\n",
                            "        vertical-align: middle;\n",
                            "    }\n",
                            "\n",
                            "    .dataframe tbody tr th {\n",
                            "        vertical-align: top;\n",
                            "    }\n",
                            "\n",
                            "    .dataframe thead th {\n",
                            "        text-align: right;\n",
                            "    }\n",
                            "</style>\n",
                            "<table border=\"1\" class=\"dataframe\">\n",
                            "  <thead>\n",
                            "    <tr style=\"text-align: right;\">\n",
                            "      <th></th>\n",
                            "      <th>Pregnancies</th>\n",
                            "      <th>Glucose</th>\n",
                            "      <th>BloodPressure</th>\n",
                            "      <th>SkinThickness</th>\n",
                            "      <th>Insulin</th>\n",
                            "      <th>BMI</th>\n",
                            "      <th>DiabetesPedigreeFunction</th>\n",
                            "      <th>Age</th>\n",
                            "      <th>Outcome</th>\n",
                            "    </tr>\n",
                            "  </thead>\n",
                            "  <tbody>\n",
                            "    <tr>\n",
                            "      <th>0</th>\n",
                            "      <td>6</td>\n",
                            "      <td>148</td>\n",
                            "      <td>72</td>\n",
                            "      <td>35</td>\n",
                            "      <td>0</td>\n",
                            "      <td>33.6</td>\n",
                            "      <td>0.627</td>\n",
                            "      <td>50</td>\n",
                            "      <td>1</td>\n",
                            "    </tr>\n",
                            "    <tr>\n",
                            "      <th>1</th>\n",
                            "      <td>1</td>\n",
                            "      <td>85</td>\n",
                            "      <td>66</td>\n",
                            "      <td>29</td>\n",
                            "      <td>0</td>\n",
                            "      <td>26.6</td>\n",
                            "      <td>0.351</td>\n",
                            "      <td>31</td>\n",
                            "      <td>0</td>\n",
                            "    </tr>\n",
                            "    <tr>\n",
                            "      <th>2</th>\n",
                            "      <td>8</td>\n",
                            "      <td>183</td>\n",
                            "      <td>64</td>\n",
                            "      <td>0</td>\n",
                            "      <td>0</td>\n",
                            "      <td>23.3</td>\n",
                            "      <td>0.672</td>\n",
                            "      <td>32</td>\n",
                            "      <td>1</td>\n",
                            "    </tr>\n",
                            "    <tr>\n",
                            "      <th>3</th>\n",
                            "      <td>1</td>\n",
                            "      <td>89</td>\n",
                            "      <td>66</td>\n",
                            "      <td>23</td>\n",
                            "      <td>94</td>\n",
                            "      <td>28.1</td>\n",
                            "      <td>0.167</td>\n",
                            "      <td>21</td>\n",
                            "      <td>0</td>\n",
                            "    </tr>\n",
                            "    <tr>\n",
                            "      <th>4</th>\n",
                            "      <td>0</td>\n",
                            "      <td>137</td>\n",
                            "      <td>40</td>\n",
                            "      <td>35</td>\n",
                            "      <td>168</td>\n",
                            "      <td>43.1</td>\n",
                            "      <td>2.288</td>\n",
                            "      <td>33</td>\n",
                            "      <td>1</td>\n",
                            "    </tr>\n",
                            "  </tbody>\n",
                            "</table>\n",
                            "</div>"
                        ],
                        "text/plain": [
                            "   Pregnancies  Glucose  BloodPressure  SkinThickness  Insulin   BMI  \\\n",
                            "0            6      148             72             35        0  33.6   \n",
                            "1            1       85             66             29        0  26.6   \n",
                            "2            8      183             64              0        0  23.3   \n",
                            "3            1       89             66             23       94  28.1   \n",
                            "4            0      137             40             35      168  43.1   \n",
                            "\n",
                            "   DiabetesPedigreeFunction  Age  Outcome  \n",
                            "0                     0.627   50        1  \n",
                            "1                     0.351   31        0  \n",
                            "2                     0.672   32        1  \n",
                            "3                     0.167   21        0  \n",
                            "4                     2.288   33        1  "
                        ]
                    },
                    "execution_count": 3,
                    "metadata": {},
                    "output_type": "execute_result"
                }
            ],
            "source": [
                "datos_diabetes = pd.read_csv(\"https://raw.githubusercontent.com/4GeeksAcademy/decision-tree-project-tutorial/main/diabetes.csv\")\n",
                "\n",
                "datos_diabetes.head()"
            ]
        },
        {
            "cell_type": "code",
            "execution_count": 4,
            "metadata": {},
            "outputs": [],
            "source": [
                "X_train, X_test, y_train, y_test = train_test_split(datos_diabetes.drop(['Outcome'],axis=1), datos_diabetes['Outcome'], test_size=0.2, random_state = 42)"
            ]
        },
        {
            "cell_type": "code",
            "execution_count": 5,
            "metadata": {},
            "outputs": [],
            "source": [
                "param_dist = {\n",
                "    'n_estimators': [5, 10, 20],\n",
                "    'max_depth': [1, 3, 4, 5, 8, 10],\n",
                "    'learning_rate': [0.01, 0.05, 0.1, 0.2, 0.3],  # Add learning_rate\n",
                "    'subsample': [0.8, 0.9, 1.0],  # Add subsample\n",
                "    'colsample_bytree': [0.8, 0.9, 1.0],  # Add colsample_bytree\n",
                "    'min_child_weight': [1, 3, 5, 10, 15, 20],\n",
                "}\n",
                "# Create XGBClassifier\n",
                "xgb = XGBClassifier()\n",
                "# Create RandomizedSearchCV object\n",
                "random_search = RandomizedSearchCV(estimator=xgb,\n",
                "                                   param_distributions=param_dist,\n",
                "                                   n_iter=100,  \n",
                "                                   cv=5,\n",
                "                                   scoring='accuracy',  \n",
                "                                   random_state=42)\n",
                "# Fit the model to find the best hyperparameters\n",
                "random_search.fit(X_train, y_train)\n",
                "# Get the best hyperparameters\n",
                "best_params = random_search.best_params_\n",
                "# Create the optimal XGBClassifier with the best hyperparameters\n",
                "optimal_xgb = XGBClassifier(**best_params)\n",
                "# Fit the optimal model on the training data\n",
                "optimal_xgb.fit(X_train, y_train)\n",
                "# Make predictions on the training and test data\n",
                "predict_train = optimal_xgb.predict(X_train)\n",
                "predict_test = optimal_xgb.predict(X_test)"
            ]
        },
        {
            "cell_type": "code",
            "execution_count": 6,
            "metadata": {},
            "outputs": [
                {
                    "data": {
                        "text/html": [
                            "<style>#sk-container-id-1 {color: black;}#sk-container-id-1 pre{padding: 0;}#sk-container-id-1 div.sk-toggleable {background-color: white;}#sk-container-id-1 label.sk-toggleable__label {cursor: pointer;display: block;width: 100%;margin-bottom: 0;padding: 0.3em;box-sizing: border-box;text-align: center;}#sk-container-id-1 label.sk-toggleable__label-arrow:before {content: \"▸\";float: left;margin-right: 0.25em;color: #696969;}#sk-container-id-1 label.sk-toggleable__label-arrow:hover:before {color: black;}#sk-container-id-1 div.sk-estimator:hover label.sk-toggleable__label-arrow:before {color: black;}#sk-container-id-1 div.sk-toggleable__content {max-height: 0;max-width: 0;overflow: hidden;text-align: left;background-color: #f0f8ff;}#sk-container-id-1 div.sk-toggleable__content pre {margin: 0.2em;color: black;border-radius: 0.25em;background-color: #f0f8ff;}#sk-container-id-1 input.sk-toggleable__control:checked~div.sk-toggleable__content {max-height: 200px;max-width: 100%;overflow: auto;}#sk-container-id-1 input.sk-toggleable__control:checked~label.sk-toggleable__label-arrow:before {content: \"▾\";}#sk-container-id-1 div.sk-estimator input.sk-toggleable__control:checked~label.sk-toggleable__label {background-color: #d4ebff;}#sk-container-id-1 div.sk-label input.sk-toggleable__control:checked~label.sk-toggleable__label {background-color: #d4ebff;}#sk-container-id-1 input.sk-hidden--visually {border: 0;clip: rect(1px 1px 1px 1px);clip: rect(1px, 1px, 1px, 1px);height: 1px;margin: -1px;overflow: hidden;padding: 0;position: absolute;width: 1px;}#sk-container-id-1 div.sk-estimator {font-family: monospace;background-color: #f0f8ff;border: 1px dotted black;border-radius: 0.25em;box-sizing: border-box;margin-bottom: 0.5em;}#sk-container-id-1 div.sk-estimator:hover {background-color: #d4ebff;}#sk-container-id-1 div.sk-parallel-item::after {content: \"\";width: 100%;border-bottom: 1px solid gray;flex-grow: 1;}#sk-container-id-1 div.sk-label:hover label.sk-toggleable__label {background-color: #d4ebff;}#sk-container-id-1 div.sk-serial::before {content: \"\";position: absolute;border-left: 1px solid gray;box-sizing: border-box;top: 0;bottom: 0;left: 50%;z-index: 0;}#sk-container-id-1 div.sk-serial {display: flex;flex-direction: column;align-items: center;background-color: white;padding-right: 0.2em;padding-left: 0.2em;position: relative;}#sk-container-id-1 div.sk-item {position: relative;z-index: 1;}#sk-container-id-1 div.sk-parallel {display: flex;align-items: stretch;justify-content: center;background-color: white;position: relative;}#sk-container-id-1 div.sk-item::before, #sk-container-id-1 div.sk-parallel-item::before {content: \"\";position: absolute;border-left: 1px solid gray;box-sizing: border-box;top: 0;bottom: 0;left: 50%;z-index: -1;}#sk-container-id-1 div.sk-parallel-item {display: flex;flex-direction: column;z-index: 1;position: relative;background-color: white;}#sk-container-id-1 div.sk-parallel-item:first-child::after {align-self: flex-end;width: 50%;}#sk-container-id-1 div.sk-parallel-item:last-child::after {align-self: flex-start;width: 50%;}#sk-container-id-1 div.sk-parallel-item:only-child::after {width: 0;}#sk-container-id-1 div.sk-dashed-wrapped {border: 1px dashed gray;margin: 0 0.4em 0.5em 0.4em;box-sizing: border-box;padding-bottom: 0.4em;background-color: white;}#sk-container-id-1 div.sk-label label {font-family: monospace;font-weight: bold;display: inline-block;line-height: 1.2em;}#sk-container-id-1 div.sk-label-container {text-align: center;}#sk-container-id-1 div.sk-container {/* jupyter's `normalize.less` sets `[hidden] { display: none; }` but bootstrap.min.css set `[hidden] { display: none !important; }` so we also need the `!important` here to be able to override the default hidden behavior on the sphinx rendered scikit-learn.org. See: https://github.com/scikit-learn/scikit-learn/issues/21755 */display: inline-block !important;position: relative;}#sk-container-id-1 div.sk-text-repr-fallback {display: none;}</style><div id=\"sk-container-id-1\" class=\"sk-top-container\"><div class=\"sk-text-repr-fallback\"><pre>XGBClassifier(base_score=None, booster=None, callbacks=None,\n",
                            "              colsample_bylevel=None, colsample_bynode=None,\n",
                            "              colsample_bytree=None, device=None, early_stopping_rounds=None,\n",
                            "              enable_categorical=False, eval_metric=None, feature_types=None,\n",
                            "              gamma=None, grow_policy=None, importance_type=None,\n",
                            "              interaction_constraints=None, learning_rate=0.03, max_bin=None,\n",
                            "              max_cat_threshold=None, max_cat_to_onehot=None,\n",
                            "              max_delta_step=None, max_depth=10, max_leaves=None,\n",
                            "              min_child_weight=None, missing=nan, monotone_constraints=None,\n",
                            "              multi_strategy=None, n_estimators=200, n_jobs=None,\n",
                            "              num_parallel_tree=None, random_state=None, ...)</pre><b>In a Jupyter environment, please rerun this cell to show the HTML representation or trust the notebook. <br />On GitHub, the HTML representation is unable to render, please try loading this page with nbviewer.org.</b></div><div class=\"sk-container\" hidden><div class=\"sk-item\"><div class=\"sk-estimator sk-toggleable\"><input class=\"sk-toggleable__control sk-hidden--visually\" id=\"sk-estimator-id-1\" type=\"checkbox\" checked><label for=\"sk-estimator-id-1\" class=\"sk-toggleable__label sk-toggleable__label-arrow\">XGBClassifier</label><div class=\"sk-toggleable__content\"><pre>XGBClassifier(base_score=None, booster=None, callbacks=None,\n",
                            "              colsample_bylevel=None, colsample_bynode=None,\n",
                            "              colsample_bytree=None, device=None, early_stopping_rounds=None,\n",
                            "              enable_categorical=False, eval_metric=None, feature_types=None,\n",
                            "              gamma=None, grow_policy=None, importance_type=None,\n",
                            "              interaction_constraints=None, learning_rate=0.03, max_bin=None,\n",
                            "              max_cat_threshold=None, max_cat_to_onehot=None,\n",
                            "              max_delta_step=None, max_depth=10, max_leaves=None,\n",
                            "              min_child_weight=None, missing=nan, monotone_constraints=None,\n",
                            "              multi_strategy=None, n_estimators=200, n_jobs=None,\n",
                            "              num_parallel_tree=None, random_state=None, ...)</pre></div></div></div></div></div>"
                        ],
                        "text/plain": [
                            "XGBClassifier(base_score=None, booster=None, callbacks=None,\n",
                            "              colsample_bylevel=None, colsample_bynode=None,\n",
                            "              colsample_bytree=None, device=None, early_stopping_rounds=None,\n",
                            "              enable_categorical=False, eval_metric=None, feature_types=None,\n",
                            "              gamma=None, grow_policy=None, importance_type=None,\n",
                            "              interaction_constraints=None, learning_rate=0.03, max_bin=None,\n",
                            "              max_cat_threshold=None, max_cat_to_onehot=None,\n",
                            "              max_delta_step=None, max_depth=10, max_leaves=None,\n",
                            "              min_child_weight=None, missing=nan, monotone_constraints=None,\n",
                            "              multi_strategy=None, n_estimators=200, n_jobs=None,\n",
                            "              num_parallel_tree=None, random_state=None, ...)"
                        ]
                    },
                    "execution_count": 6,
                    "metadata": {},
                    "output_type": "execute_result"
                }
            ],
            "source": [
                "model = XGBClassifier(n_estimators=200, max_depth=10, learning_rate=0.03)\n",
                "model.fit(X_train, y_train)"
            ]
        },
        {
            "cell_type": "code",
            "execution_count": 7,
            "metadata": {},
            "outputs": [
                {
                    "data": {
                        "text/plain": [
                            "array([1, 0, 0, 0, 1, 1, 0, 1, 1, 1, 0, 1, 0, 1, 0, 1, 0, 0, 1, 1, 0, 0,\n",
                            "       0, 0, 1, 1, 0, 0, 0, 0, 1, 1, 1, 1, 1, 1, 1, 1, 0, 1, 0, 0, 1, 0,\n",
                            "       0, 1, 1, 0, 0, 1, 0, 1, 1, 0, 0, 0, 1, 0, 0, 1, 1, 0, 0, 0, 0, 1,\n",
                            "       0, 1, 0, 1, 1, 0, 0, 0, 0, 0, 0, 0, 0, 0, 1, 0, 0, 0, 0, 1, 1, 0,\n",
                            "       0, 0, 0, 0, 0, 1, 1, 1, 1, 0, 1, 0, 1, 0, 1, 1, 1, 0, 0, 1, 0, 1,\n",
                            "       0, 1, 0, 1, 0, 1, 1, 0, 0, 1, 0, 0, 0, 0, 0, 0, 0, 1, 1, 1, 1, 1,\n",
                            "       0, 0, 1, 0, 0, 1, 1, 0, 0, 0, 0, 0, 0, 1, 0, 0, 0, 1, 0, 0, 0, 0])"
                        ]
                    },
                    "execution_count": 7,
                    "metadata": {},
                    "output_type": "execute_result"
                }
            ],
            "source": [
                "y_pred = model.predict(X_test)\n",
                "y_pred"
            ]
        },
        {
            "cell_type": "code",
            "execution_count": 8,
            "metadata": {},
            "outputs": [
                {
                    "data": {
                        "text/plain": [
                            "0.7337662337662337"
                        ]
                    },
                    "execution_count": 8,
                    "metadata": {},
                    "output_type": "execute_result"
                }
            ],
            "source": [
                "from sklearn.metrics import accuracy_score\n",
                "\n",
                "accuracy_score(y_test, y_pred)"
            ]
        },
        {
            "cell_type": "code",
            "execution_count": 9,
            "metadata": {},
            "outputs": [],
            "source": [
                "def get_metrics(y_train, y_test, y_pred_train, y_pred_test):\n",
                "    # Calcular métricas para el conjunto de entrenamiento\n",
                "    train_accuracy = accuracy_score(y_train, y_pred_train)\n",
                "    train_f1 = f1_score(y_train, y_pred_train)\n",
                "    train_auc = roc_auc_score(y_train, y_pred_train)\n",
                "    train_precision = precision_score(y_train, y_pred_train)\n",
                "    train_recall = recall_score(y_train, y_pred_train)\n",
                "    train_specificity = specificity_score(y_train, y_pred_train)\n",
                "\n",
                "    # Calcular métricas para el conjunto de prueba\n",
                "    test_accuracy = accuracy_score(y_test, y_pred_test)\n",
                "    test_f1 = f1_score(y_test, y_pred_test)\n",
                "    test_auc = roc_auc_score(y_test, y_pred_test)\n",
                "    test_precision = precision_score(y_test, y_pred_test)\n",
                "    test_recall = recall_score(y_test, y_pred_test)\n",
                "    test_specificity = specificity_score(y_test, y_pred_test)\n",
                "\n",
                "    # Calcular la diferencia entre métricas de entrenamiento y prueba\n",
                "    diff_accuracy = train_accuracy - test_accuracy\n",
                "    diff_f1 = train_f1 - test_f1\n",
                "    diff_auc = train_auc - test_auc\n",
                "    diff_precision = train_precision - test_precision\n",
                "    diff_recall = train_recall - test_recall\n",
                "    diff_specificity = train_specificity - test_specificity\n",
                "\n",
                "    # Crear un DataFrame con los resultados\n",
                "    metrics_df = pd.DataFrame([[train_accuracy, train_f1, train_auc, train_precision, train_recall, train_specificity],[test_accuracy, test_f1, test_auc, test_precision, test_recall, test_specificity],[diff_accuracy, diff_f1, diff_auc, diff_precision, diff_recall, diff_specificity]],\n",
                "                              columns = ['Accuracy', 'F1', 'AUC', 'Precision', 'Recall', 'Specificity'],\n",
                "                              index = ['Train','Test', 'Diferencia'])\n",
                "\n",
                "    return metrics_df"
            ]
        },
        {
            "cell_type": "code",
            "execution_count": 10,
            "metadata": {},
            "outputs": [
                {
                    "data": {
                        "text/html": [
                            "<div>\n",
                            "<style scoped>\n",
                            "    .dataframe tbody tr th:only-of-type {\n",
                            "        vertical-align: middle;\n",
                            "    }\n",
                            "\n",
                            "    .dataframe tbody tr th {\n",
                            "        vertical-align: top;\n",
                            "    }\n",
                            "\n",
                            "    .dataframe thead th {\n",
                            "        text-align: right;\n",
                            "    }\n",
                            "</style>\n",
                            "<table border=\"1\" class=\"dataframe\">\n",
                            "  <thead>\n",
                            "    <tr style=\"text-align: right;\">\n",
                            "      <th></th>\n",
                            "      <th>Accuracy</th>\n",
                            "      <th>F1</th>\n",
                            "      <th>AUC</th>\n",
                            "      <th>Precision</th>\n",
                            "      <th>Recall</th>\n",
                            "      <th>Specificity</th>\n",
                            "    </tr>\n",
                            "  </thead>\n",
                            "  <tbody>\n",
                            "    <tr>\n",
                            "      <th>Train</th>\n",
                            "      <td>0.998371</td>\n",
                            "      <td>0.997647</td>\n",
                            "      <td>0.997653</td>\n",
                            "      <td>1.000000</td>\n",
                            "      <td>0.995305</td>\n",
                            "      <td>1.000000</td>\n",
                            "    </tr>\n",
                            "    <tr>\n",
                            "      <th>Test</th>\n",
                            "      <td>0.733766</td>\n",
                            "      <td>0.655462</td>\n",
                            "      <td>0.728283</td>\n",
                            "      <td>0.609375</td>\n",
                            "      <td>0.709091</td>\n",
                            "      <td>0.747475</td>\n",
                            "    </tr>\n",
                            "    <tr>\n",
                            "      <th>Diferencia</th>\n",
                            "      <td>0.264605</td>\n",
                            "      <td>0.342185</td>\n",
                            "      <td>0.269370</td>\n",
                            "      <td>0.390625</td>\n",
                            "      <td>0.286214</td>\n",
                            "      <td>0.252525</td>\n",
                            "    </tr>\n",
                            "  </tbody>\n",
                            "</table>\n",
                            "</div>"
                        ],
                        "text/plain": [
                            "            Accuracy        F1       AUC  Precision    Recall  Specificity\n",
                            "Train       0.998371  0.997647  0.997653   1.000000  0.995305     1.000000\n",
                            "Test        0.733766  0.655462  0.728283   0.609375  0.709091     0.747475\n",
                            "Diferencia  0.264605  0.342185  0.269370   0.390625  0.286214     0.252525"
                        ]
                    },
                    "execution_count": 10,
                    "metadata": {},
                    "output_type": "execute_result"
                }
            ],
            "source": [
                "# Realizamos predicciones en el conjunto de entrenamiento y prueba\n",
                "test_pred = model.predict(X_test)\n",
                "train_pred = model.predict(X_train)\n",
                "\n",
                "# Evaluamos el rendimiento del modelo\n",
                "get_metrics(y_train, y_test, train_pred, test_pred)"
            ]
        },
        {
            "cell_type": "code",
            "execution_count": 11,
            "metadata": {},
            "outputs": [
                {
                    "data": {
                        "text/html": [
                            "<div>\n",
                            "<style scoped>\n",
                            "    .dataframe tbody tr th:only-of-type {\n",
                            "        vertical-align: middle;\n",
                            "    }\n",
                            "\n",
                            "    .dataframe tbody tr th {\n",
                            "        vertical-align: top;\n",
                            "    }\n",
                            "\n",
                            "    .dataframe thead th {\n",
                            "        text-align: right;\n",
                            "    }\n",
                            "</style>\n",
                            "<table border=\"1\" class=\"dataframe\">\n",
                            "  <thead>\n",
                            "    <tr style=\"text-align: right;\">\n",
                            "      <th></th>\n",
                            "      <th>Accuracy</th>\n",
                            "      <th>F1</th>\n",
                            "      <th>AUC</th>\n",
                            "      <th>Precision</th>\n",
                            "      <th>Recall</th>\n",
                            "      <th>Specificity</th>\n",
                            "    </tr>\n",
                            "  </thead>\n",
                            "  <tbody>\n",
                            "    <tr>\n",
                            "      <th>Train</th>\n",
                            "      <td>0.845277</td>\n",
                            "      <td>0.764268</td>\n",
                            "      <td>0.816615</td>\n",
                            "      <td>0.810526</td>\n",
                            "      <td>0.723005</td>\n",
                            "      <td>0.910224</td>\n",
                            "    </tr>\n",
                            "    <tr>\n",
                            "      <th>Test</th>\n",
                            "      <td>0.740260</td>\n",
                            "      <td>0.636364</td>\n",
                            "      <td>0.717172</td>\n",
                            "      <td>0.636364</td>\n",
                            "      <td>0.636364</td>\n",
                            "      <td>0.797980</td>\n",
                            "    </tr>\n",
                            "    <tr>\n",
                            "      <th>Diferencia</th>\n",
                            "      <td>0.105017</td>\n",
                            "      <td>0.127904</td>\n",
                            "      <td>0.099443</td>\n",
                            "      <td>0.174163</td>\n",
                            "      <td>0.086641</td>\n",
                            "      <td>0.112245</td>\n",
                            "    </tr>\n",
                            "  </tbody>\n",
                            "</table>\n",
                            "</div>"
                        ],
                        "text/plain": [
                            "            Accuracy        F1       AUC  Precision    Recall  Specificity\n",
                            "Train       0.845277  0.764268  0.816615   0.810526  0.723005     0.910224\n",
                            "Test        0.740260  0.636364  0.717172   0.636364  0.636364     0.797980\n",
                            "Diferencia  0.105017  0.127904  0.099443   0.174163  0.086641     0.112245"
                        ]
                    },
                    "execution_count": 11,
                    "metadata": {},
                    "output_type": "execute_result"
                }
            ],
            "source": [
                "get_metrics(y_train,y_test,predict_train ,predict_test)"
            ]
        }
    ],
    "metadata": {
        "kernelspec": {
            "display_name": "Python 3.8.13 64-bit ('3.8.13')",
            "language": "python",
            "name": "python3"
        },
        "language_info": {
            "codemirror_mode": {
                "name": "ipython",
                "version": 3
            },
            "file_extension": ".py",
            "mimetype": "text/x-python",
            "name": "python",
            "nbconvert_exporter": "python",
            "pygments_lexer": "ipython3",
            "version": "3.11.4"
        },
        "orig_nbformat": 4,
        "vscode": {
            "interpreter": {
                "hash": "110cc1dee26208153f2972f08a2ad52b6a56238dc66d48e87fb757ef2996db56"
            }
        }
    },
    "nbformat": 4,
    "nbformat_minor": 2
}
