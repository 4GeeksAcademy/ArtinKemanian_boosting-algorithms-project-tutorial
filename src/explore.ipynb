{
    "cells": [
        {
            "cell_type": "markdown",
            "metadata": {},
            "source": [
                "# Explore here"
            ]
        },
        {
            "cell_type": "code",
            "execution_count": null,
            "metadata": {},
            "outputs": [],
            "source": [
                "from flask import Flask, request, render_template\n",
                "from sklearn.datasets import load_iris\n",
                "from sklearn.linear_model import LogisticRegression\n",
                "\n",
                "app = Flask(__name__)\n",
                "\n",
                "# Cargar el dataset de Iris\n",
                "iris = load_iris()\n",
                "X, y = iris.data, iris.target\n",
                "model = LogisticRegression()\n",
                "model.fit(X, y)\n",
                "\n",
                "@app.route('/', methods=['GET', 'POST'])\n",
                "def index():\n",
                "    if request.method == 'POST':\n",
                "        sepal_length = request.form.get('sepal_length')\n",
                "        sepal_width = request.form.get('sepal_width')\n",
                "        petal_length = request.form.get('petal_length')\n",
                "        petal_width = request.form.get('petal_width')\n",
                "\n",
                "        try:\n",
                "            prediction = model.predict([[sepal_length, sepal_width, petal_length, petal_width]])[0]\n",
                "            species = iris.target_names[prediction]\n",
                "            return render_template('index.html', result=species)\n",
                "        except:\n",
                "            return render_template('index.html', result=\"Invalid input\")\n",
                "\n",
                "    return render_template('index.html', result=None)\n",
                "\n",
                "if __name__ == '__main__':\n",
                "    app.run(debug=True)\n"
            ]
        }
    ],
    "metadata": {
        "kernelspec": {
            "display_name": "Python 3.8.13 64-bit ('3.8.13')",
            "language": "python",
            "name": "python3"
        },
        "language_info": {
            "codemirror_mode": {
                "name": "ipython",
                "version": 3
            },
            "file_extension": ".py",
            "mimetype": "text/x-python",
            "name": "python",
            "nbconvert_exporter": "python",
            "pygments_lexer": "ipython3",
            "version": "3.8.13"
        },
        "orig_nbformat": 4,
        "vscode": {
            "interpreter": {
                "hash": "110cc1dee26208153f2972f08a2ad52b6a56238dc66d48e87fb757ef2996db56"
            }
        }
    },
    "nbformat": 4,
    "nbformat_minor": 2
}
